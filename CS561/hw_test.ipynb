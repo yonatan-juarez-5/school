{
 "cells": [
  {
   "cell_type": "code",
   "execution_count": 18,
   "metadata": {},
   "outputs": [],
   "source": [
    "import pandas as pd\n",
    "import numpy as np"
   ]
  },
  {
   "cell_type": "code",
   "execution_count": 76,
   "metadata": {},
   "outputs": [
    {
     "data": {
      "text/plain": [
       "(3333, 16)"
      ]
     },
     "execution_count": 76,
     "metadata": {},
     "output_type": "execute_result"
    }
   ],
   "source": [
    "train_data = pd.read_csv('data/train_data1.csv')\n",
    "train_label = pd.read_csv('data/train_label1.csv')\n",
    "test_data = pd.read_csv('data/test_data1.csv')\n",
    "test_label = pd.read_csv('data/test_label1.csv')\n",
    "\n",
    "train_data.shape"
   ]
  },
  {
   "cell_type": "code",
   "execution_count": 77,
   "metadata": {},
   "outputs": [
    {
     "name": "stdout",
     "output_type": "stream",
     "text": [
      "[3316  974 1225 ...  796 2516 3007]\n"
     ]
    }
   ],
   "source": [
    "rand = np.arange(len(train_data))\n",
    "np.random.shuffle(rand)\n",
    "print(rand)"
   ]
  },
  {
   "cell_type": "code",
   "execution_count": 78,
   "metadata": {},
   "outputs": [
    {
     "name": "stdout",
     "output_type": "stream",
     "text": [
      "Index(['BROKERTITLE', 'TYPE', 'PRICE', 'BATH', 'PROPERTYSQFT', 'ADDRESS',\n",
      "       'STATE', 'MAIN_ADDRESS', 'ADMINISTRATIVE_AREA_LEVEL_2', 'LOCALITY',\n",
      "       'SUBLOCALITY', 'STREET_NAME', 'LONG_NAME', 'FORMATTED_ADDRESS',\n",
      "       'LATITUDE', 'LONGITUDE'],\n",
      "      dtype='object')\n"
     ]
    },
    {
     "data": {
      "text/plain": [
       "<bound method NDFrame.head of                             TYPE      PRICE  BATH  PROPERTYSQFT  \\\n",
       "0                 Condo for sale     315000   2.0          1400   \n",
       "1                 Condo for sale  195000000  10.0         17545   \n",
       "2                 House for sale     260000   2.0          2015   \n",
       "3                 Condo for sale      69000   1.0           445   \n",
       "4                 House for sale     690000   2.0          4004   \n",
       "...                          ...        ...   ...           ...   \n",
       "3328  Multi-family home for sale    1700000   7.0          7854   \n",
       "3329              Condo for sale     945000   2.0           903   \n",
       "3330              Co-op for sale     245000   1.0          2204   \n",
       "3331              Condo for sale     598125   1.0           655   \n",
       "3332              Co-op for sale     349000   1.0           750   \n",
       "\n",
       "                                                ADDRESS  \\\n",
       "0                                  2 E 55th St Unit 803   \n",
       "1     Central Park Tower Penthouse-217 W 57th New Yo...   \n",
       "2                                      620 Sinclair Ave   \n",
       "3                               2 E 55th St Unit 908W33   \n",
       "4                                           584 Park Pl   \n",
       "...                                                 ...   \n",
       "3328                                        448 40th St   \n",
       "3329           2351 Adam Clayton Powell Jr Blvd Apt 614   \n",
       "3330                                97-40 62 Dr Unit Lg   \n",
       "3331                           91-23 Corona Ave Unit 4G   \n",
       "3332                            460 Neptune Ave Apt 14O   \n",
       "\n",
       "                        STATE ADMINISTRATIVE_AREA_LEVEL_2         LOCALITY  \\\n",
       "0          New York, NY 10022             New York County         New York   \n",
       "1          New York, NY 10019               United States         New York   \n",
       "2     Staten Island, NY 10312               United States         New York   \n",
       "3         Manhattan, NY 10022               United States         New York   \n",
       "4          Brooklyn, NY 11238               United States         New York   \n",
       "...                       ...                         ...              ...   \n",
       "3328       Brooklyn, NY 11232               United States         New York   \n",
       "3329      Manhattan, NY 10030                    New York  New York County   \n",
       "3330      Rego Park, NY 11374               United States         New York   \n",
       "3331       Elmhurst, NY 11373                    New York    Queens County   \n",
       "3332       Brooklyn, NY 11224                    New York     Kings County   \n",
       "\n",
       "          SUBLOCALITY       STREET_NAME         LONG_NAME   LATITUDE  \\\n",
       "0           Manhattan  East 55th Street   Regis Residence  40.761255   \n",
       "1     New York County          New York  West 57th Street  40.766393   \n",
       "2     Richmond County     Staten Island   Sinclair Avenue  40.541805   \n",
       "3     New York County          New York  East 55th Street  40.761398   \n",
       "4        Kings County          Brooklyn        Park Place  40.674363   \n",
       "...               ...               ...               ...        ...   \n",
       "3328     Kings County          Brooklyn       40th Street  40.651222   \n",
       "3329         New York         Manhattan              2351  40.816711   \n",
       "3330    Queens County            Queens        62nd Drive  40.732538   \n",
       "3331           Queens          Flushing             91-23  40.742770   \n",
       "3332         Brooklyn      Coney Island               460  40.579147   \n",
       "\n",
       "      LONGITUDE  \n",
       "0    -73.974483  \n",
       "1    -73.980991  \n",
       "2    -74.196109  \n",
       "3    -73.974613  \n",
       "4    -73.958725  \n",
       "...         ...  \n",
       "3328 -74.005780  \n",
       "3329 -73.942050  \n",
       "3330 -73.860152  \n",
       "3331 -73.872752  \n",
       "3332 -73.970949  \n",
       "\n",
       "[3333 rows x 13 columns]>"
      ]
     },
     "execution_count": 78,
     "metadata": {},
     "output_type": "execute_result"
    }
   ],
   "source": [
    "print(train_data.columns)\n",
    "relevant_columns = ['TYPE', 'PRICE', 'BATH', 'PROPERTYSQFT', 'STATE', 'ADMINISTRATIVE_AREA_LEVEL_2',\n",
    "                    'LOCALITY', 'SUBLOCALITY', 'STREET_NAME', 'LATITUDE', 'LONGITUDE']\n",
    "cols = ['BROKERTITLE', 'MAIN_ADDRESS', 'FORMATTED_ADDRESS']\n",
    "# Filter DataFrame to include only relevant columns\n",
    "# data_filtered = train_data[relevant_columns]\n",
    "columns = train_data.columns.to_list()\n",
    "# columns_to_drop_existing = [col for col in cols if col in columns]\n",
    "\n",
    "\n",
    "# Further preprocessing (e.g., handle missing values, encode categorical features) can be performed here\n",
    "\n",
    "# Example of dropping irrelevant columns\n",
    "data_filtered = train_data.drop(cols, axis=1)\n",
    "train_data = data_filtered\n",
    "train_data.head"
   ]
  },
  {
   "cell_type": "code",
   "execution_count": 79,
   "metadata": {},
   "outputs": [],
   "source": [
    "# full_train_data = pd.concat([train_data, train_label], axis=1)\n",
    "# full_train_data.iloc[0]\n",
    "\n",
    "x_encoded = pd.get_dummies(train_data, columns = relevant_columns, drop_first=True)"
   ]
  },
  {
   "cell_type": "code",
   "execution_count": 87,
   "metadata": {},
   "outputs": [
    {
     "data": {
      "text/plain": [
       "ADDRESS                  2 E 55th St Unit 803\n",
       "LONG_NAME                     Regis Residence\n",
       "TYPE_Coming Soon                            0\n",
       "TYPE_Condo for sale                         1\n",
       "TYPE_Contingent                             0\n",
       "                                 ...         \n",
       "LONGITUDE_-73.7077664                       0\n",
       "LONGITUDE_-73.7055812                       0\n",
       "LONGITUDE_-73.704456                        0\n",
       "LONGITUDE_-73.7039503                       0\n",
       "LONGITUDE_-73.7039037                       0\n",
       "Name: 0, Length: 8747, dtype: object"
      ]
     },
     "execution_count": 87,
     "metadata": {},
     "output_type": "execute_result"
    }
   ],
   "source": [
    "x_encoded.iloc[0]"
   ]
  },
  {
   "cell_type": "code",
   "execution_count": 86,
   "metadata": {},
   "outputs": [
    {
     "data": {
      "text/plain": [
       "(3333, 8748)"
      ]
     },
     "execution_count": 86,
     "metadata": {},
     "output_type": "execute_result"
    }
   ],
   "source": [
    "x_train = pd.concat([x_encoded, train_label], axis=1)\n",
    "x_train.shape"
   ]
  },
  {
   "cell_type": "code",
   "execution_count": 88,
   "metadata": {},
   "outputs": [
    {
     "name": "stdout",
     "output_type": "stream",
     "text": [
      "Vocabulary: {'2': 0, 'E': 1, '55th': 2, 'St': 3, 'Unit': 4, '803': 5, 'Regis': 6, 'Residence': 7, 'Central': 8, 'Park': 9}\n",
      "BOW Vector for Document 1: [1. 1. 1. 1. 1. 1. 0. 0. 0. 0.]\n",
      "BOW Vector for Document 2: [0. 0. 0. 0. 0. 0. 1. 1. 1. 1.]\n"
     ]
    }
   ],
   "source": [
    "def create_vocab(corpus):\n",
    "    # Create vocabulary from corpus (list of documents)\n",
    "    vocab = {}\n",
    "    for document in corpus:\n",
    "        words = document.split()  # Split document into words\n",
    "        for word in words:\n",
    "            if word not in vocab:\n",
    "                vocab[word] = len(vocab)  # Assign a unique index to each word\n",
    "    return vocab\n",
    "\n",
    "def bow_vectorize(document, vocab):\n",
    "    # Create Bag-of-Words (BOW) vector for a single document using the provided vocabulary\n",
    "    bow_vector = np.zeros(len(vocab))  # Initialize BOW vector with zeros\n",
    "    words = document.split()  # Split document into words\n",
    "    for word in words:\n",
    "        if word in vocab:\n",
    "            bow_vector[vocab[word]] += 1  # Increment count of word in BOW vector\n",
    "    return bow_vector\n",
    "\n",
    "# Example usage:\n",
    "corpus = [\"2 E 55th St Unit 803\", \"Regis Residence Central Park\"]\n",
    "vocab = create_vocab(corpus)\n",
    "\n",
    "# Vectorize documents using BOW representation\n",
    "document1_vector = bow_vectorize(corpus[0], vocab)\n",
    "document2_vector = bow_vectorize(corpus[1], vocab)\n",
    "\n",
    "print(\"Vocabulary:\", vocab)\n",
    "print(\"BOW Vector for Document 1:\", document1_vector)\n",
    "print(\"BOW Vector for Document 2:\", document2_vector)"
   ]
  },
  {
   "cell_type": "code",
   "execution_count": null,
   "metadata": {},
   "outputs": [],
   "source": []
  }
 ],
 "metadata": {
  "kernelspec": {
   "display_name": "venv",
   "language": "python",
   "name": "venv"
  },
  "language_info": {
   "codemirror_mode": {
    "name": "ipython",
    "version": 3
   },
   "file_extension": ".py",
   "mimetype": "text/x-python",
   "name": "python",
   "nbconvert_exporter": "python",
   "pygments_lexer": "ipython3",
   "version": "3.11.4"
  },
  "orig_nbformat": 4
 },
 "nbformat": 4,
 "nbformat_minor": 2
}
