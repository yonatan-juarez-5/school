{
 "cells": [
  {
   "cell_type": "markdown",
   "id": "7c524e72",
   "metadata": {},
   "source": [
    "<font size=\"5\">name: **Yonatan Juarez**</font><br>\n",
    "<font size=\"4\">github: **yonatan-juarez-5**</font><br>\n",
    "<font size=\"3\">usc: **yjuarez**</font><br>"
   ]
  },
  {
   "cell_type": "code",
   "execution_count": null,
   "id": "be9e65d7",
   "metadata": {},
   "outputs": [],
   "source": []
  }
 ],
 "metadata": {
  "kernelspec": {
   "display_name": "Python 3 (ipykernel)",
   "language": "python",
   "name": "python3"
  },
  "language_info": {
   "codemirror_mode": {
    "name": "ipython",
    "version": 3
   },
   "file_extension": ".py",
   "mimetype": "text/x-python",
   "name": "python",
   "nbconvert_exporter": "python",
   "pygments_lexer": "ipython3",
   "version": "3.11.4"
  }
 },
 "nbformat": 4,
 "nbformat_minor": 5
}
