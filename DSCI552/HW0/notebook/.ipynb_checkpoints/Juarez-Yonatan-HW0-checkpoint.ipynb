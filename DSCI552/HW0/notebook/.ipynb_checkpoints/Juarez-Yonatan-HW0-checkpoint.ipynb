{
 "cells": [
  {
   "cell_type": "markdown",
   "id": "79d34e65",
   "metadata": {},
   "source": [
    "<font size=\"5\">name: **Yonatan Juarez**</font><br>\n",
    "<font size=\"4\">github: **yonatan-juarez-5**</font><br>\n",
    "<font size=\"3\">usc: **yjuarez**</font><br>"
   ]
  },
  {
   "cell_type": "markdown",
   "id": "fc618492",
   "metadata": {},
   "source": [
    "**Pandas: This section si for practicing basic functions of the pandas library using the Salaries data set.**"
   ]
  },
  {
   "cell_type": "markdown",
   "id": "267e4b71",
   "metadata": {},
   "source": [
    "**(a) Consider the Salaries.csv file <br>\n",
    "(b)Use read_csv()to read the Salaries.csv data and copy it to a df <br>\n",
    "(c) make the column playerID the index column**"
   ]
  },
  {
   "cell_type": "code",
   "execution_count": null,
   "id": "eef08184",
   "metadata": {
    "scrolled": false
   },
   "outputs": [],
   "source": [
    "import pandas as pd\n",
    "import os\n",
    "import numpy as np\n",
    "import matplotlib.pyplot as plt\n",
    "import seabon as sns\n",
    "\n",
    "# read in Salaries.csv\n",
    "salaries = pd.read_csv(\"../data/Salaries.csv\", index_col='playerID', skiprows=[2])\n",
    "print(salaries)"
   ]
  },
  {
   "cell_type": "markdown",
   "id": "2fd5d9f7",
   "metadata": {},
   "source": [
    "**(d) Select the ID of the players who are registered in ATL and HOU whose salary > $1e6**"
   ]
  },
  {
   "cell_type": "code",
   "execution_count": null,
   "id": "a6ea0745",
   "metadata": {},
   "outputs": [],
   "source": [
    "players = salaries[(salaries['teamID'].isin([\"ATL\", \"HOU\"])) & (salaries['salary'] > 1e6)]\n",
    "print(f\"\\tATL/HOU & salary > $1e6:\\n{players}\\nShape {players.shape}\")"
   ]
  },
  {
   "cell_type": "markdown",
   "id": "de23e9d1",
   "metadata": {},
   "source": [
    "**(e) Use describe() to calculate std, Q1, median, Q3, mean, max, min salary in team ATL**"
   ]
  },
  {
   "cell_type": "code",
   "execution_count": null,
   "id": "7bd4681a",
   "metadata": {},
   "outputs": [],
   "source": [
    "# print out stats for ATL selection\n",
    "atl_players = salaries[salaries[\"teamID\"] == \"ATL\"]\n",
    "atl_players_stats = atl_players.describe()\n",
    "print(f\"\\tStats for ATL:\\n{atl_players_stats}\")"
   ]
  },
  {
   "cell_type": "markdown",
   "id": "79e1db99",
   "metadata": {},
   "source": [
    "**(f) Create a python dictionary object whose keys are the headers of the dataframe created in the read_csv() execise<br> and values are python list objects<br>\n",
    "*use to_dict()***"
   ]
  },
  {
   "cell_type": "code",
   "execution_count": null,
   "id": "8cb99051",
   "metadata": {},
   "outputs": [],
   "source": [
    "# create a dictionary & convert to dictionary to dataframe\n",
    "temp_salaries = salaries.reset_index()\n",
    "dict = temp_salaries.to_dict()"
   ]
  },
  {
   "cell_type": "markdown",
   "id": "3230959f",
   "metadata": {},
   "source": [
    "**(g) Create a df using pd.DataFrameRead from dictionary created in (e)**"
   ]
  },
  {
   "cell_type": "code",
   "execution_count": null,
   "id": "ca09dba8",
   "metadata": {},
   "outputs": [],
   "source": [
    "new_df = pd.DataFrame(dict)\n",
    "print(f\"\\tnew_df:\\n{new_df}\")\n",
    "\n",
    "# rename headers\n",
    "new_df.rename(columns={\"playerID\":'a', \"yearID\": \"b\", \"teamID\":\"c\", \"lgID\":\"d\", \"salary\":\"e\"}, inplace=True)\n",
    "print(f\"New headers:\\n{new_df}\")"
   ]
  },
  {
   "cell_type": "markdown",
   "id": "777447f0",
   "metadata": {},
   "source": [
    "<font size=\"4\">**Numpy\n",
    "<br>(a) create 2-d python list and convert to numpy array**"
   ]
  },
  {
   "cell_type": "code",
   "execution_count": null,
   "id": "270ae8ed",
   "metadata": {},
   "outputs": [],
   "source": [
    "# create 2d python list\n",
    "py_list = [[1,2,3], [4,5,6], [7,8,9]]\n",
    "# convert python list t0 np array\n",
    "np_arr = np.array(py_list)\n",
    "print(np_arr)"
   ]
  },
  {
   "cell_type": "markdown",
   "id": "c9c1c6aa",
   "metadata": {},
   "source": [
    "<font size=\"4\">**(b) Examine ndim, shape, size, dtype, itemsize, & data attributes**"
   ]
  },
  {
   "cell_type": "code",
   "execution_count": null,
   "id": "8fd0805d",
   "metadata": {},
   "outputs": [],
   "source": [
    "print(f\"Attributes:\\n{np_arr.ndim}, {np_arr.shape}, {np_arr.size}, {np_arr.dtype}, {np_arr.itemsize}\")"
   ]
  },
  {
   "cell_type": "markdown",
   "id": "159111ee",
   "metadata": {},
   "source": [
    "<font size=\"4\">**(c) learn concept of an ndarray object by using reshape() & flatten() methods**"
   ]
  },
  {
   "cell_type": "code",
   "execution_count": null,
   "id": "3b2da1f2",
   "metadata": {},
   "outputs": [],
   "source": [
    "print(np_arr.reshape(9))\n",
    "print(np_arr.flatten())"
   ]
  },
  {
   "cell_type": "markdown",
   "id": "87a1e621",
   "metadata": {},
   "source": [
    "<font size=\"4\">**(d) Understand how slice operation words for 1D & 2D arrays**"
   ]
  },
  {
   "cell_type": "code",
   "execution_count": null,
   "id": "c173de34",
   "metadata": {},
   "outputs": [],
   "source": [
    "np_1d = np_arr.reshape(1,9)\n",
    "print(np_arr.reshape(9))\n",
    "print(np_1d)\n",
    "np_slice = np_arr[1:, 1:2]\n",
    "print(np_slice)"
   ]
  },
  {
   "cell_type": "markdown",
   "id": "246a696f",
   "metadata": {},
   "source": [
    "<font size=\"4\">**(e) Learn the following functions ndarray - argmin, argmax, min, max, mean, sum, std, dot, square, sqrt, abs, exp, sign, mod**"
   ]
  },
  {
   "cell_type": "code",
   "execution_count": null,
   "id": "16cb45a1",
   "metadata": {},
   "outputs": [],
   "source": [
    "arr = np.array([3,4,5,6,7,2,8,1])\n",
    "arr1 = np.array([4,3,2,1,6,1,9,7])\n",
    "print(arr)\n",
    "print(np.argmin(arr))\n",
    "print(np.argmax(arr))\n",
    "print(f\"{np.min(arr)}, {np.max(arr)}, {np.mean(arr)}, {np.sum(arr)}\")\n",
    "print(f\"{np.std(arr)}, {np.dot(arr, arr1)}, {np.square(arr)}, {np.sqrt(arr)}\")\n",
    "print(f\"{np.abs(arr)}, {np.exp(arr)}, {np.sign(arr)}\")\n",
    "print(f\"{np.mod(arr, arr1)}\")"
   ]
  },
  {
   "cell_type": "markdown",
   "id": "e2e91ce3",
   "metadata": {},
   "source": [
    "<font size=\"4\">**(f) examine arange, ones, zeros, eye, linspace, concatenate**"
   ]
  },
  {
   "cell_type": "code",
   "execution_count": null,
   "id": "d86df42b",
   "metadata": {},
   "outputs": [],
   "source": [
    "arr = np.array([2,4,6,8,10])\n",
    "print(np.arange(1,10, 2))\n",
    "print(np.zeros(10))\n",
    "print(np.eye(3))\n",
    "print(np.linspace(1,6,5)) # (start, stop, n)\n",
    "print(np.concatenate(([1,2], [6,7])))"
   ]
  },
  {
   "cell_type": "markdown",
   "id": "20fa5ef2",
   "metadata": {},
   "source": [
    "<font size=\"5\">**Matplotlib<br>\n",
    "(a) Create 2 1D arrays x,y and plot y vs. x, add title, xlabel, ylabel, grid**"
   ]
  },
  {
   "cell_type": "code",
   "execution_count": null,
   "id": "8656e561",
   "metadata": {},
   "outputs": [],
   "source": [
    "x = [n for n in range(1,6)]\n",
    "y = [n for n in range(5,26,5)]\n",
    "print(f\"x:{x}\\ny:{y}\")\n",
    "plt.plot(x,y)\n",
    "plt.ylabel(\"Increment of 5\")\n",
    "plt.xlabel(\"Increment of 1\")\n",
    "plt.grid()"
   ]
  },
  {
   "cell_type": "markdown",
   "id": "f920fecb",
   "metadata": {},
   "source": [
    "<font size=\"4\">**(b) Create multiple arrays, plot them with different styles, add legends, ad text/mathematical equations on the plot**"
   ]
  },
  {
   "cell_type": "code",
   "execution_count": null,
   "id": "01b26a90",
   "metadata": {},
   "outputs": [],
   "source": [
    "x = [[2**n for n in range(5)], [4**n for n in range(5)]]\n",
    "y = [[3**n for n in range(5)], [5**n for n in range(5)]]\n",
    "print(x)\n",
    "print(y)\n",
    "plt.plot(x[0],y[0], '*', label=\"x vs. y\", linestyle=\"--\")\n",
    "plt.text(1, 70, r'$y = x^2$', fontsize=18, color='red')\n",
    "plt.legend()\n",
    "plt.show()"
   ]
  },
  {
   "cell_type": "markdown",
   "id": "977bad2b",
   "metadata": {},
   "source": [
    "<font size=4>**(c) Create multiple subplots, play around with the figure size, text font/size**"
   ]
  },
  {
   "cell_type": "code",
   "execution_count": null,
   "id": "e1f00e23",
   "metadata": {},
   "outputs": [],
   "source": [
    "fig, ax = plt.subplots()\n",
    "\n",
    "ax.plot(x[0], y[0])  # (rows, columns, subplot_number)\n",
    "plt.title(r'$2^n vs. 3^n$')\n",
    "plt.xlabel(\"x-axis\", fontsize=13)\n",
    "plt.ylabel(\"y-axis\", fontsize=13)\n",
    "plt.xticks(fontsize=18)\n",
    "plt.yticks(fontsize=18)\n",
    "ax.legend(\"exponential\",fontsize=14)\n",
    "\n",
    "# Show the plots\n",
    "plt.show()\n"
   ]
  },
  {
   "cell_type": "markdown",
   "id": "038030d3",
   "metadata": {},
   "source": [
    "<font size=4> ***(d) Get familiar with get current axis (gca) handle to do the above tasks***"
   ]
  },
  {
   "cell_type": "code",
   "execution_count": null,
   "id": "7b1c7f85",
   "metadata": {},
   "outputs": [],
   "source": [
    "# Create a figure and an axes\n",
    "fig, ax = plt.subplots()\n",
    "\n",
    "# Get the current axes\n",
    "current_axes = plt.gca()\n",
    "\n",
    "# Plot something on the current axes\n",
    "current_axes.plot([1, 2, 3], [4, 5, 6])\n",
    "\n",
    "# Show the figure\n",
    "plt.show()"
   ]
  },
  {
   "cell_type": "markdown",
   "id": "b911c8f9",
   "metadata": {},
   "source": [
    "***(d) change limits on x & y axes, use logarithmic axes to plot***"
   ]
  },
  {
   "cell_type": "code",
   "execution_count": null,
   "id": "632e6c71",
   "metadata": {},
   "outputs": [],
   "source": [
    "x = np.linspace(1, 10, 100)\n",
    "y = 10**x\n",
    "\n",
    "# Create a subplot with logarithmic axes\n",
    "fig, ax = plt.subplots()\n",
    "\n",
    "# Plot the data with logarithmic axes\n",
    "ax.plot(x, y, label='Exponential Data')\n",
    "\n",
    "ax.set_xlim(1, 10)  # Set x-axis limits from 1 to 10\n",
    "ax.set_ylim(1, 10**10)  # Set y-axis limits from 1 to 10^10\n",
    "\n",
    "ax.set_xscale('log')\n",
    "ax.set_yscale('log')\n",
    "\n",
    "ax.set_xlabel('X-Axis (log scale)')\n",
    "ax.set_ylabel('Y-Axis (log scale)')\n",
    "\n",
    "ax.legend()\n",
    "plt.show()\n"
   ]
  },
  {
   "cell_type": "markdown",
   "id": "09b54b34",
   "metadata": {},
   "source": [
    "<font size=5>***Seaborn<br>\n",
    "<font size=4>(a) Use salaries.csv in pandas section<br>\n",
    "(b) create a dataframe and try to plot it with seaborn***"
   ]
  },
  {
   "cell_type": "code",
   "execution_count": 100,
   "id": "bedf4992",
   "metadata": {},
   "outputs": [
    {
     "name": "stdout",
     "output_type": "stream",
     "text": [
      "       yearID teamID lgID   playerID    salary\n",
      "0        1985    ATL   NL  barkele01    870000\n",
      "1        1985    ATL   NL  bedrost01    550000\n",
      "2        1985    ATL   NL  benedbr01    545000\n",
      "3        1985    ATL   NL   campri01    633333\n",
      "4        1985    ATL   NL  ceronri01    625000\n",
      "...       ...    ...  ...        ...       ...\n",
      "25570    2015    WAS   NL  treinbl01    512800\n",
      "25571    2015    WAS   NL  ugglada01    507500\n",
      "25572    2015    WAS   NL  werthja01  21000000\n",
      "25573    2015    WAS   NL  zimmejo02  16500000\n",
      "25574    2015    WAS   NL  zimmery01  14000000\n",
      "\n",
      "[25575 rows x 5 columns]\n"
     ]
    }
   ],
   "source": [
    "salaries = pd.read_csv(\"../data/Salaries.csv\")\n",
    "print(salaries)"
   ]
  },
  {
   "cell_type": "code",
   "execution_count": null,
   "id": "15e5e243",
   "metadata": {},
   "outputs": [],
   "source": []
  }
 ],
 "metadata": {
  "kernelspec": {
   "display_name": "Python 3 (ipykernel)",
   "language": "python",
   "name": "python3"
  },
  "language_info": {
   "codemirror_mode": {
    "name": "ipython",
    "version": 3
   },
   "file_extension": ".py",
   "mimetype": "text/x-python",
   "name": "python",
   "nbconvert_exporter": "python",
   "pygments_lexer": "ipython3",
   "version": "3.11.4"
  }
 },
 "nbformat": 4,
 "nbformat_minor": 5
}
